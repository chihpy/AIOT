{
 "cells": [
  {
   "cell_type": "code",
   "execution_count": 1,
   "metadata": {},
   "outputs": [],
   "source": [
    "from pymongo import MongoClient"
   ]
  },
  {
   "cell_type": "code",
   "execution_count": 2,
   "metadata": {},
   "outputs": [],
   "source": [
    "client = MongoClient(host='127.0.0.1', port=8088)"
   ]
  },
  {
   "cell_type": "code",
   "execution_count": 3,
   "metadata": {},
   "outputs": [],
   "source": [
    "db = client['pymongo_created_db']"
   ]
  },
  {
   "cell_type": "code",
   "execution_count": 4,
   "metadata": {},
   "outputs": [],
   "source": [
    "collection = db['member']"
   ]
  },
  {
   "cell_type": "markdown",
   "metadata": {},
   "source": [
    "# 新增"
   ]
  },
  {
   "cell_type": "code",
   "execution_count": 5,
   "metadata": {},
   "outputs": [],
   "source": [
    "mydata = {'name':'Keven', 'phone':'0988888888', 'email':'keven@mongo.com'}"
   ]
  },
  {
   "cell_type": "code",
   "execution_count": 6,
   "metadata": {},
   "outputs": [],
   "source": [
    "result = collection.insert_one(mydata)"
   ]
  },
  {
   "cell_type": "code",
   "execution_count": 7,
   "metadata": {},
   "outputs": [
    {
     "name": "stdout",
     "output_type": "stream",
     "text": [
      "60388bdd8270e177ef764294\n"
     ]
    }
   ],
   "source": [
    "print(result.inserted_id)"
   ]
  },
  {
   "cell_type": "code",
   "execution_count": 8,
   "metadata": {},
   "outputs": [],
   "source": [
    "data_list = [\n",
    "    {'name' : 'Kitty', 'phone':'0988888888', 'email':'kitty@mongo.com'},\n",
    "    {'name' : 'Michael', 'phone': '0999999999', 'email': 'Michael@mongo.com'},\n",
    "    {'name' : 'Mike', 'phone': '0911111111', 'email': 'Mike@mongo.com'}\n",
    "]"
   ]
  },
  {
   "cell_type": "code",
   "execution_count": 9,
   "metadata": {},
   "outputs": [],
   "source": [
    "result = collection.insert_many(data_list)"
   ]
  },
  {
   "cell_type": "code",
   "execution_count": 10,
   "metadata": {},
   "outputs": [
    {
     "data": {
      "text/plain": [
       "[ObjectId('60388be18270e177ef764295'),\n",
       " ObjectId('60388be18270e177ef764296'),\n",
       " ObjectId('60388be18270e177ef764297')]"
      ]
     },
     "execution_count": 10,
     "metadata": {},
     "output_type": "execute_result"
    }
   ],
   "source": [
    "result.inserted_ids"
   ]
  },
  {
   "cell_type": "code",
   "execution_count": 13,
   "metadata": {},
   "outputs": [
    {
     "data": {
      "text/plain": [
       "4"
      ]
     },
     "execution_count": 13,
     "metadata": {},
     "output_type": "execute_result"
    }
   ],
   "source": [
    "collection.count_documents({})"
   ]
  },
  {
   "cell_type": "code",
   "execution_count": 14,
   "metadata": {},
   "outputs": [
    {
     "data": {
      "text/plain": [
       "<pymongo.results.DeleteResult at 0x21dfc730a88>"
      ]
     },
     "execution_count": 14,
     "metadata": {},
     "output_type": "execute_result"
    }
   ],
   "source": [
    "collection.delete_one({})"
   ]
  },
  {
   "cell_type": "code",
   "execution_count": 15,
   "metadata": {},
   "outputs": [
    {
     "data": {
      "text/plain": [
       "3"
      ]
     },
     "execution_count": 15,
     "metadata": {},
     "output_type": "execute_result"
    }
   ],
   "source": [
    "collection.count_documents({})"
   ]
  },
  {
   "cell_type": "code",
   "execution_count": 17,
   "metadata": {},
   "outputs": [
    {
     "name": "stdout",
     "output_type": "stream",
     "text": [
      "{'_id': ObjectId('60388be18270e177ef764295'), 'name': 'Kitty', 'phone': '0988888888', 'email': 'kitty@mongo.com'}\n",
      "{'_id': ObjectId('60388be18270e177ef764296'), 'name': 'Michael', 'phone': '0999999999', 'email': 'Michael@mongo.com'}\n",
      "{'_id': ObjectId('60388be18270e177ef764297'), 'name': 'Mike', 'phone': '0911111111', 'email': 'Mike@mongo.com'}\n"
     ]
    }
   ],
   "source": [
    "result = collection.find({})\n",
    "for x in result:\n",
    "    print(x)"
   ]
  },
  {
   "cell_type": "markdown",
   "metadata": {},
   "source": [
    "# 刪除"
   ]
  },
  {
   "cell_type": "code",
   "execution_count": 18,
   "metadata": {},
   "outputs": [
    {
     "name": "stdout",
     "output_type": "stream",
     "text": [
      "{'_id': ObjectId('60388be18270e177ef764296'), 'name': 'Michael', 'phone': '0999999999', 'email': 'Michael@mongo.com'}\n",
      "{'_id': ObjectId('60388be18270e177ef764297'), 'name': 'Mike', 'phone': '0911111111', 'email': 'Mike@mongo.com'}\n"
     ]
    }
   ],
   "source": [
    "collection.delete_one({\"name\" : \"Kitty\"})\n",
    "result = collection.find({})\n",
    "for x in result:\n",
    "    print(x)"
   ]
  },
  {
   "cell_type": "code",
   "execution_count": 19,
   "metadata": {},
   "outputs": [
    {
     "name": "stdout",
     "output_type": "stream",
     "text": [
      "{'_id': ObjectId('60388be18270e177ef764296'), 'name': 'Michael', 'phone': '0999999999', 'email': 'Michael@mongo.com'}\n",
      "{'_id': ObjectId('60388be18270e177ef764297'), 'name': 'Mike', 'phone': '0911111111', 'email': 'Mike@mongo.com'}\n",
      "{'_id': ObjectId('60388fae8270e177ef764298'), 'name': 'Kitty', 'phone': '0988888888', 'email': 'kitty@mongo.com'}\n",
      "{'_id': ObjectId('60388fae8270e177ef764299'), 'name': 'Kitty', 'phone': '0999999999', 'email': 'kitty@mongo.com'}\n",
      "{'_id': ObjectId('60388fae8270e177ef76429a'), 'name': 'Kitty', 'phone': '0911111111', 'email': 'kitty@mongo.com'}\n"
     ]
    }
   ],
   "source": [
    "data_list = [\n",
    "    {'name' : 'Kitty', 'phone':'0988888888', 'email':'kitty@mongo.com'},\n",
    "    {'name' : 'Kitty', 'phone': '0999999999', 'email': 'kitty@mongo.com'},\n",
    "    {'name' : 'Kitty', 'phone': '0911111111', 'email': 'kitty@mongo.com'}\n",
    "]\n",
    "result = collection.insert_many(data_list)\n",
    "result = collection.find({})\n",
    "for x in result:\n",
    "    print(x)"
   ]
  },
  {
   "cell_type": "code",
   "execution_count": 22,
   "metadata": {},
   "outputs": [],
   "source": [
    "data_list2 = [\n",
    "    {'name' : 'Kitty', 'phone':'0988888888', 'email':'kitty@mongo.com'},\n",
    "    {'name' : 'Kitty', 'phone': '0999999999', 'email': 'kitty@mongo.com'},\n",
    "    {'name' : 'Kitty', 'phone': '0911111111', 'email': 'kitty@mongo.com'}\n",
    "]"
   ]
  },
  {
   "cell_type": "code",
   "execution_count": 23,
   "metadata": {},
   "outputs": [],
   "source": [
    "result = collection.insert_many(data_list2)"
   ]
  },
  {
   "cell_type": "code",
   "execution_count": 24,
   "metadata": {},
   "outputs": [
    {
     "name": "stdout",
     "output_type": "stream",
     "text": [
      "{'_id': ObjectId('60388be18270e177ef764296'), 'name': 'Michael', 'phone': '0999999999', 'email': 'Michael@mongo.com'}\n",
      "{'_id': ObjectId('60388be18270e177ef764297'), 'name': 'Mike', 'phone': '0911111111', 'email': 'Mike@mongo.com'}\n",
      "{'_id': ObjectId('60388fae8270e177ef764298'), 'name': 'Kitty', 'phone': '0988888888', 'email': 'kitty@mongo.com'}\n",
      "{'_id': ObjectId('60388fae8270e177ef764299'), 'name': 'Kitty', 'phone': '0999999999', 'email': 'kitty@mongo.com'}\n",
      "{'_id': ObjectId('60388fae8270e177ef76429a'), 'name': 'Kitty', 'phone': '0911111111', 'email': 'kitty@mongo.com'}\n",
      "{'_id': ObjectId('603890298270e177ef76429b'), 'name': 'Kitty', 'phone': '0988888888', 'email': 'kitty@mongo.com'}\n",
      "{'_id': ObjectId('603890298270e177ef76429c'), 'name': 'Kitty', 'phone': '0999999999', 'email': 'kitty@mongo.com'}\n",
      "{'_id': ObjectId('603890298270e177ef76429d'), 'name': 'Kitty', 'phone': '0911111111', 'email': 'kitty@mongo.com'}\n"
     ]
    }
   ],
   "source": [
    "result = collection.find({})\n",
    "for x in result:\n",
    "    print(x)"
   ]
  },
  {
   "cell_type": "code",
   "execution_count": 26,
   "metadata": {},
   "outputs": [
    {
     "name": "stdout",
     "output_type": "stream",
     "text": [
      "{'_id': ObjectId('60388be18270e177ef764296'), 'name': 'Michael', 'phone': '0999999999', 'email': 'Michael@mongo.com'}\n",
      "{'_id': ObjectId('60388be18270e177ef764297'), 'name': 'Mike', 'phone': '0911111111', 'email': 'Mike@mongo.com'}\n"
     ]
    }
   ],
   "source": [
    "result = collection.delete_many({\"name\" : \"Kitty\"})\n",
    "result = collection.find({})\n",
    "for x in result:\n",
    "    print(x)"
   ]
  },
  {
   "cell_type": "markdown",
   "metadata": {},
   "source": [
    "# 修改"
   ]
  },
  {
   "cell_type": "code",
   "execution_count": 27,
   "metadata": {},
   "outputs": [
    {
     "name": "stdout",
     "output_type": "stream",
     "text": [
      "{'_id': ObjectId('60388be18270e177ef764296'), 'name': 'Michael', 'phone': '0999999999', 'email': 'Michael@mongo.com'}\n",
      "{'_id': ObjectId('60388be18270e177ef764297'), 'name': 'Mike2', 'phone': '0911111111', 'email': 'Mike@mongo.com'}\n"
     ]
    }
   ],
   "source": [
    "filter_ = {\"name\" : \"Mike\"}\n",
    "update_ = {\"$set\" : { \"name\" : \"Mike2\"}}\n",
    "collection.update_one(filter_, update_)\n",
    "result = collection.find({})\n",
    "for x in result:\n",
    "    print(x)"
   ]
  },
  {
   "cell_type": "markdown",
   "metadata": {},
   "source": [
    "# 查詢"
   ]
  },
  {
   "cell_type": "code",
   "execution_count": 28,
   "metadata": {},
   "outputs": [],
   "source": [
    "result = collection.insert_one({\"name\" : \"Michael\", \"phone\" : '0988888888', \"email\" : \"Michael2#mongo.com\"})"
   ]
  },
  {
   "cell_type": "code",
   "execution_count": 29,
   "metadata": {},
   "outputs": [
    {
     "data": {
      "text/plain": [
       "{'_id': ObjectId('60388be18270e177ef764296'),\n",
       " 'name': 'Michael',\n",
       " 'phone': '0999999999',\n",
       " 'email': 'Michael@mongo.com'}"
      ]
     },
     "execution_count": 29,
     "metadata": {},
     "output_type": "execute_result"
    }
   ],
   "source": [
    "result = collection.find_one({\"name\" : \"Michael\"})\n",
    "result"
   ]
  },
  {
   "cell_type": "markdown",
   "metadata": {},
   "source": [
    "# 排序資料"
   ]
  },
  {
   "cell_type": "code",
   "execution_count": 30,
   "metadata": {},
   "outputs": [
    {
     "name": "stdout",
     "output_type": "stream",
     "text": [
      "{'_id': ObjectId('60388be18270e177ef764296'), 'name': 'Michael', 'phone': '0999999999', 'email': 'Michael@mongo.com'}\n",
      "{'_id': ObjectId('60388be18270e177ef764297'), 'name': 'Mike2', 'phone': '0911111111', 'email': 'Mike@mongo.com'}\n",
      "{'_id': ObjectId('6038912d8270e177ef76429e'), 'name': 'Michael', 'phone': '0988888888', 'email': 'Michael2#mongo.com'}\n"
     ]
    }
   ],
   "source": [
    "result = collection.find({})\n",
    "for x in result:\n",
    "    print(x)"
   ]
  },
  {
   "cell_type": "code",
   "execution_count": 31,
   "metadata": {},
   "outputs": [
    {
     "name": "stdout",
     "output_type": "stream",
     "text": [
      "{'_id': ObjectId('60388be18270e177ef764297'), 'name': 'Mike2', 'phone': '0911111111', 'email': 'Mike@mongo.com'}\n",
      "{'_id': ObjectId('60388be18270e177ef764296'), 'name': 'Michael', 'phone': '0999999999', 'email': 'Michael@mongo.com'}\n",
      "{'_id': ObjectId('6038912d8270e177ef76429e'), 'name': 'Michael', 'phone': '0988888888', 'email': 'Michael2#mongo.com'}\n"
     ]
    }
   ],
   "source": [
    "result = collection.find({}).sort(\"name\", -1)\n",
    "for x in result:\n",
    "    print(x)"
   ]
  },
  {
   "cell_type": "markdown",
   "metadata": {},
   "source": [
    "# 限制筆數"
   ]
  },
  {
   "cell_type": "code",
   "execution_count": 32,
   "metadata": {},
   "outputs": [
    {
     "name": "stdout",
     "output_type": "stream",
     "text": [
      "{'_id': ObjectId('60388be18270e177ef764296'), 'name': 'Michael', 'phone': '0999999999', 'email': 'Michael@mongo.com'}\n"
     ]
    }
   ],
   "source": [
    "result = collection.find().limit(1)\n",
    "for x in result:\n",
    "    print(x)"
   ]
  },
  {
   "cell_type": "code",
   "execution_count": null,
   "metadata": {},
   "outputs": [],
   "source": []
  }
 ],
 "metadata": {
  "kernelspec": {
   "display_name": "Python 3",
   "language": "python",
   "name": "python3"
  },
  "language_info": {
   "codemirror_mode": {
    "name": "ipython",
    "version": 3
   },
   "file_extension": ".py",
   "mimetype": "text/x-python",
   "name": "python",
   "nbconvert_exporter": "python",
   "pygments_lexer": "ipython3",
   "version": "3.6.5"
  }
 },
 "nbformat": 4,
 "nbformat_minor": 2
}
