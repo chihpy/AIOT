{
 "cells": [
  {
   "cell_type": "markdown",
   "id": "first-thompson",
   "metadata": {},
   "source": [
    "# 什麼是decorator?"
   ]
  },
  {
   "cell_type": "code",
   "execution_count": 4,
   "id": "fitted-genetics",
   "metadata": {},
   "outputs": [
    {
     "name": "stdout",
     "output_type": "stream",
     "text": [
      "Now use function 'dog_bark'\n",
      "Bark !!!\n",
      "Now use function 'cat_miaow'\n",
      "Miaow ~~~\n"
     ]
    }
   ],
   "source": [
    "def print_func_name(func):\n",
    "    def wrap():\n",
    "        print(\"Now use function '{}'\".format(func.__name__))\n",
    "        func()\n",
    "    return wrap\n",
    "\n",
    "def dog_bark():\n",
    "    print(\"Bark !!!\")\n",
    "\n",
    "def cat_miaow():\n",
    "    print(\"Miaow ~~~\")\n",
    "\n",
    "if __name__ == \"__main__\":\n",
    "    print_func_name(dog_bark)()\n",
    "    print_func_name(cat_miaow)()\n",
    "\n",
    "## 有兩個主要的function想執行:\n",
    "## dog_bark和cat_miaow\n",
    "## 且他們都有一個共同要做的事:\n",
    "## 印出自己的function name\n",
    "## 所以共同要做的事抽出來用print_func_name來完成\n",
    "## 這個情況，我們就稱function print_func_name(func)是一個decorator(裝飾器)"
   ]
  },
  {
   "cell_type": "markdown",
   "id": "express-wholesale",
   "metadata": {},
   "source": [
    "# 將以上範例使用@改寫"
   ]
  },
  {
   "cell_type": "code",
   "execution_count": 5,
   "id": "resistant-price",
   "metadata": {},
   "outputs": [
    {
     "name": "stdout",
     "output_type": "stream",
     "text": [
      "Now use function 'dog_bark'\n",
      "Bark !!!\n",
      "Now use function 'cat_miaow'\n",
      "Miaow ~~~\n"
     ]
    }
   ],
   "source": [
    "def print_func_name(func):\n",
    "    def warp():\n",
    "        print(\"Now use function '{}'\".format(func.__name__))\n",
    "        func()\n",
    "    return warp\n",
    "\n",
    "@print_func_name\n",
    "def dog_bark():\n",
    "    print(\"Bark !!!\")\n",
    "\n",
    "@print_func_name\n",
    "def cat_miaow():\n",
    "    print(\"Miaow ~~~\")\n",
    "\n",
    "if __name__ == \"__main__\":\n",
    "    dog_bark()\n",
    "    cat_miaow()\n",
    "\n",
    "## 所以前面加上@的意思就是\n",
    "## 呼叫這個函數的時候，會把這個函數當成@後面的函數的參數傳進去?"
   ]
  },
  {
   "cell_type": "markdown",
   "id": "fleet-philip",
   "metadata": {},
   "source": [
    "# Decorator的有序性"
   ]
  },
  {
   "cell_type": "code",
   "execution_count": 6,
   "id": "proud-method",
   "metadata": {},
   "outputs": [
    {
     "name": "stdout",
     "output_type": "stream",
     "text": [
      "Now use function 'warp_2'\n",
      "Now the Unix time is 1614325064\n",
      "Bark !!!\n"
     ]
    }
   ],
   "source": [
    "def print_func_name(func):\n",
    "    def warp_1():\n",
    "        print(\"Now use function '{}'\".format(func.__name__))\n",
    "        func()\n",
    "    return warp_1\n",
    "def print_time(func):\n",
    "    import time\n",
    "    def warp_2():\n",
    "        print(\"Now the Unix time is {}\".format(int(time.time())))\n",
    "        func()\n",
    "    return warp_2\n",
    "\n",
    "@print_func_name\n",
    "@print_time\n",
    "def dog_bark():\n",
    "    print(\"Bark !!!\")\n",
    "\n",
    "if __name__ == \"__main__\":\n",
    "    dog_bark()\n",
    "    "
   ]
  },
  {
   "cell_type": "code",
   "execution_count": 7,
   "id": "judicial-purse",
   "metadata": {},
   "outputs": [
    {
     "data": {
      "text/plain": [
       "<function __main__.print_func_name.<locals>.warp_1()>"
      ]
     },
     "execution_count": 7,
     "metadata": {},
     "output_type": "execute_result"
    }
   ],
   "source": [
    "dog_bark\n",
    "## dog_bark()先被@print_time吃進去，吐出warp_2\n",
    "## warp_2又被@print_func_name吃進去，吐出warp_1\n",
    "## 1. 最後呼叫的是warp_1，所以print name先執行\n",
    "## 2. 印出的function name 是warp_2不是dog_bark"
   ]
  },
  {
   "cell_type": "code",
   "execution_count": 8,
   "id": "powerful-cedar",
   "metadata": {},
   "outputs": [
    {
     "name": "stdout",
     "output_type": "stream",
     "text": [
      "Now use function 'warp_2'\n",
      "Now the Unix time is 1614325532\n",
      "Bark !!!\n",
      "Now the Unix time is 1614325532\n",
      "Now use function 'cat_miaow'\n",
      "Miaow !!!\n"
     ]
    }
   ],
   "source": [
    "def print_func_name(func):\n",
    "    def warp_1():\n",
    "        print(\"Now use function '{}'\".format(func.__name__))\n",
    "        func()\n",
    "    return warp_1\n",
    "def print_time(func):\n",
    "    import time\n",
    "    def warp_2():\n",
    "        print(\"Now the Unix time is {}\".format(int(time.time())))\n",
    "        func()\n",
    "    return warp_2\n",
    "@print_func_name\n",
    "@print_time\n",
    "def dog_bark():\n",
    "    print(\"Bark !!!\")\n",
    "\n",
    "@print_time\n",
    "@print_func_name\n",
    "def cat_miaow():\n",
    "    print(\"Miaow !!!\")\n",
    "\n",
    "if __name__ == \"__main__\":\n",
    "    dog_bark()\n",
    "    cat_miaow()\n",
    "\n",
    "## dogbark 先印出warp_2然後印出time然後Bark\n",
    "## cat_miaow 先印出time然後印出cat_miaow然後miaow\n",
    "## cat_miaow被當成參數傳入print_func_name，所以print出來的名子會是cat miaow，然後吐出warp_1\n",
    "## warp_1又被當成參數傳入print_time然後吐出warp_2，最後呼叫warp_2"
   ]
  },
  {
   "cell_type": "markdown",
   "id": "smooth-frontier",
   "metadata": {},
   "source": [
    "# Decorator如何帶參數"
   ]
  },
  {
   "cell_type": "code",
   "execution_count": 9,
   "id": "electric-quarterly",
   "metadata": {},
   "outputs": [
    {
     "name": "stdout",
     "output_type": "stream",
     "text": [
      "Now use function 'dog_bark'\n",
      "Now Unix time is 1614325789\n",
      "Bark !!!\n"
     ]
    }
   ],
   "source": [
    "import time\n",
    "\n",
    "def print_func_name(time):\n",
    "    def decorator(func):\n",
    "        def warp():\n",
    "            print(\"Now use function '{}'\".format(func.__name__))\n",
    "            print(\"Now Unix time is {}\".format(int(time)))\n",
    "            func()\n",
    "        return warp\n",
    "    return decorator\n",
    "@print_func_name(time=(time.time()))\n",
    "def dog_bark():\n",
    "    print(\"Bark !!!\")\n",
    "\n",
    "if __name__ == \"__main__\":\n",
    "    dog_bark()\n",
    "\n",
    "## 如果要讓decorator傳入參數，只需要改成@print_func_name(param = param_variable)即可\n",
    "## 可以用arguments也可以用key arguments的形式\n",
    "## 第一層print_func_name(time)是用來解析decorator傳入的參數\n",
    "## 第二層def decorator(func)是吃進處要要修飾的function\n",
    "## 所以帶參數的結論是: 把原本的code外面多加一層用來傳入參數"
   ]
  },
  {
   "cell_type": "markdown",
   "id": "unlike-shopper",
   "metadata": {},
   "source": [
    "# Decorator也可以是class?"
   ]
  },
  {
   "cell_type": "code",
   "execution_count": 10,
   "id": "noble-thailand",
   "metadata": {},
   "outputs": [
    {
     "name": "stdout",
     "output_type": "stream",
     "text": [
      "10\n",
      "Bark !!!\n",
      "I can pee vary hard......\n"
     ]
    }
   ],
   "source": [
    "class Dog:\n",
    "    def __init__(self, func):\n",
    "        self.age = 10\n",
    "        self.talent = func\n",
    "    def bark(self):\n",
    "        print(\"Bark !!!\")\n",
    "@Dog\n",
    "def dog_can_pee():\n",
    "    print(\"I can pee vary hard......\")\n",
    "if __name__ == \"__main__\":\n",
    "    dog = dog_can_pee\n",
    "    print(dog.age)\n",
    "    dog.bark()\n",
    "    dog.talent()\n",
    "\n",
    "## 當decorator是一個class decorator時\n",
    "## 要傳入的function主體dog_can_pee就會從class裡的initializer被吃進去\n",
    "## 將function dog_can_pee封裝?到class dog的一種寫法"
   ]
  },
  {
   "cell_type": "code",
   "execution_count": 11,
   "id": "baking-piano",
   "metadata": {},
   "outputs": [
    {
     "name": "stdout",
     "output_type": "stream",
     "text": [
      "I can pee very hard......\n",
      "I can jump uselessly QQQ\n",
      "I can poo like a super pooping machine!\n"
     ]
    }
   ],
   "source": [
    "class Dog:\n",
    "    def __init__(self, func):\n",
    "        self.talent = func\n",
    "\n",
    "    def bark(self):\n",
    "        print(\"Bark !!!\")\n",
    "\n",
    "\n",
    "@Dog\n",
    "def dog_can_pee():\n",
    "    print(\"I can pee very hard......\")\n",
    "\n",
    "\n",
    "@Dog\n",
    "def dog_can_jump():\n",
    "    print(\"I can jump uselessly QQQ\")\n",
    "\n",
    "\n",
    "@Dog\n",
    "def dog_can_poo():\n",
    "    print(\"I can poo like a super pooping machine!\")\n",
    "\n",
    "\n",
    "\n",
    "if __name__ == \"__main__\":\n",
    "    dog_1 = dog_can_pee\n",
    "    dog_1.talent()\n",
    "    # > I can pee very hard......\n",
    "\n",
    "    dog_2 = dog_can_jump\n",
    "    dog_2.talent()\n",
    "    # > I can jump uselessly QQQ\n",
    "\n",
    "    dog_3 = dog_can_poo\n",
    "    dog_3.talent()\n",
    "    # > I can poo like a super pooping machine!\n",
    "\n",
    "## 達到同樣效果的寫法有很多種，其中一種是利用 class 繼承的方式達成，\n",
    "## 不過如果在此處使用 class 繼承可能會過於冗餘、臃種且擴充性低，\n",
    "## 用簡潔的 decorator 反而有簡單、重複率低且擴充高的優點！"
   ]
  },
  {
   "cell_type": "code",
   "execution_count": null,
   "id": "parental-differential",
   "metadata": {},
   "outputs": [],
   "source": []
  }
 ],
 "metadata": {
  "kernelspec": {
   "display_name": "Python 3",
   "language": "python",
   "name": "python3"
  },
  "language_info": {
   "codemirror_mode": {
    "name": "ipython",
    "version": 3
   },
   "file_extension": ".py",
   "mimetype": "text/x-python",
   "name": "python",
   "nbconvert_exporter": "python",
   "pygments_lexer": "ipython3",
   "version": "3.6.5"
  }
 },
 "nbformat": 4,
 "nbformat_minor": 5
}
