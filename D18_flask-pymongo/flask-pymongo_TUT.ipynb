{
 "cells": [
  {
   "cell_type": "code",
   "execution_count": 1,
   "id": "excellent-brain",
   "metadata": {},
   "outputs": [],
   "source": [
    "from flask import Flask, request, jsonify\n",
    "from flask_pymongo import PyMongo\n",
    "from bson.objectid import ObjectId\n",
    "from pymongo import MongoClient"
   ]
  },
  {
   "cell_type": "markdown",
   "id": "juvenile-right",
   "metadata": {},
   "source": [
    "# 預處理"
   ]
  },
  {
   "cell_type": "code",
   "execution_count": null,
   "id": "matched-convention",
   "metadata": {},
   "outputs": [],
   "source": [
    "## 有一個在docker裡的mongoDB\n",
    "## docker pull mongo\n",
    "## docker run --name mongo1 -v C:\\Users\\PY.Chih\\Desktop\\AIOT\\D18_flask-pymongo\\data:/data/db -d -p 8088:27017 mongo:latest"
   ]
  },
  {
   "cell_type": "markdown",
   "id": "arranged-occasions",
   "metadata": {},
   "source": [
    "# 建立database"
   ]
  },
  {
   "cell_type": "code",
   "execution_count": null,
   "id": "empty-charge",
   "metadata": {},
   "outputs": [],
   "source": [
    "client = MongoClient(host='127.0.0.1', port=8088)\n",
    "db = client['person_data']\n",
    "collection = db['d0206']\n",
    "data_list = [\n",
    "    {'name' : 'Kitty', 'age': 18, 'gender': 1, 'emotion':'happy'},\n",
    "    {'name' : 'Michael', 'age': 3, 'gender': 0, 'emotion': 'angry'},\n",
    "    {'name' : 'Jack', 'age': 16, 'gender': 1, 'emotion': 'disgust'},\n",
    "    {'name' : 'Harry', 'age': 60, 'gender': 0, 'emotion': 'fear'},\n",
    "    {'name' : 'David', 'age': 18, 'gender': 1, 'emotion': 'neutral'},\n",
    "    {'name' : 'Thomas', 'age': 33, 'gender': 1, 'emotion': 'sad'},\n",
    "    {'name' : 'George', 'age': 54, 'gender': 0, 'emotion': 'surprise'},\n",
    "    {'name' : 'William', 'age': 26, 'gender': 0, 'emotion': 'neutral'},\n",
    "    {'name' : 'Charles', 'age': 80, 'gender': 1, 'emotion': 'happy'}\n",
    "]\n",
    "result = collection.insert_many(data_list)\n",
    "## 用container裡的mongo shell 確認資料有新增\n",
    "## docker exec -it mongo1 mongo\n",
    "## show dbs\n",
    "## show collections\n",
    "## db.d0206.find()"
   ]
  },
  {
   "cell_type": "markdown",
   "id": "likely-demographic",
   "metadata": {},
   "source": [
    "# 使用 Flask 操作 MongoDB - 取得"
   ]
  },
  {
   "cell_type": "code",
   "execution_count": null,
   "id": "assisted-brazilian",
   "metadata": {},
   "outputs": [],
   "source": [
    "app = Flask(__name__)\n",
    "app.config[\"MONGO_URI\"] = \"mongodb://localhost:8088/person_data\"\n",
    "mongo = PyMongo(app)\n",
    "\n",
    "@app.route('/d0206')\n",
    "@app.route('/d0206/<id>', methods = ['GET'])\n",
    "def get_member(id=None):\n",
    "    # 若沒有傳入 id，及取得所有資料\n",
    "    if id is None:\n",
    "        members = mongo.db.d0206.find({})\n",
    "        result = [] # 宣告一個陣列，回傳結果時需要用到\n",
    "        \n",
    "        for member in members:\n",
    "            member['_id'] = str(member['_id']) # mongo 回傳的 id 為 ObjectId 型別，把 id 轉成一般的字串\n",
    "            result.append(member)\n",
    "        return jsonify(result) # 把我們的結果轉換為 json 並回傳\n",
    "    else:\n",
    "        result = mongo.db.d0206.find_one({'_id': ObjectId(id)})\n",
    "        if result is not None:\n",
    "            result['_id'] = str(result['_id']) # mongo 回傳的 id 為 ObjectId 型別，把 id 轉成一般的字串\n",
    "        \n",
    "        return jsonify(result) # 把我們的結果轉換為 json 並回傳\n",
    "if __name__ == '__main__':\n",
    "    app.run()\n",
    "## 所有資料的可以\n",
    "## id的找不到"
   ]
  },
  {
   "cell_type": "markdown",
   "id": "large-cutting",
   "metadata": {},
   "source": [
    "# 使用 Flask 操作 MongoDB - 新增"
   ]
  },
  {
   "cell_type": "code",
   "execution_count": null,
   "id": "polyphonic-cooperation",
   "metadata": {},
   "outputs": [],
   "source": [
    "app = Flask(__name__)\n",
    "app.config[\"MONGO_URI\"] = \"mongodb://localhost:8088/person_data\"\n",
    "mongo = PyMongo(app)\n",
    "\n",
    "@app.route('/d0206', methods = ['POST'])\n",
    "def add_member(id=None):\n",
    "    name = request.form.get('name')\n",
    "    age = request.form.get('age')\n",
    "    gender = request.form.get('gender')\n",
    "    emotion = request.form.get('emotion')\n",
    "    result = mongo.db.d0206.insert_one({'name': name, 'age': age, 'gender': gender, 'emotion': emotion})\n",
    "    return str(result.inserted_id)\n",
    "\n",
    "if __name__ == '__main__':\n",
    "    app.run()"
   ]
  },
  {
   "cell_type": "markdown",
   "id": "violent-sector",
   "metadata": {},
   "source": [
    "# 使用 Flask 操作 MongoDB - 刪除"
   ]
  },
  {
   "cell_type": "code",
   "execution_count": null,
   "id": "efficient-radius",
   "metadata": {},
   "outputs": [],
   "source": [
    "app = Flask(__name__)\n",
    "app.config[\"MONGO_URI\"] = \"mongodb://localhost:8088/person_data\"\n",
    "mongo = PyMongo(app)\n",
    "\n",
    "@app.route('/d0206/<id>', methods = ['DELETE'])\n",
    "def remove_member(id):\n",
    "    result = 0\n",
    "    member = mongo.db.d0206.find_one({'_id': ObjectId(id)})\n",
    "    if member is not None:\n",
    "        del_result = mongo.db.d0206.delete_one(member)\n",
    "        result = del_result.deleted_count\n",
    "    return \"Delete {} data\".format(result)\n",
    "if __name__ == '__main__':\n",
    "    app.run()"
   ]
  },
  {
   "cell_type": "code",
   "execution_count": 3,
   "id": "played-happiness",
   "metadata": {},
   "outputs": [
    {
     "name": "stdout",
     "output_type": "stream",
     "text": [
      " * Serving Flask app \"__main__\" (lazy loading)\n",
      " * Environment: production\n",
      "   WARNING: This is a development server. Do not use it in a production deployment.\n",
      "   Use a production WSGI server instead.\n",
      " * Debug mode: off\n"
     ]
    },
    {
     "name": "stderr",
     "output_type": "stream",
     "text": [
      " * Running on http://127.0.0.1:5000/ (Press CTRL+C to quit)\n",
      "127.0.0.1 - - [26/Feb/2021 19:34:34] \"\u001b[37mPUT /d0206/6038d47db85e51bf14d638ca HTTP/1.1\u001b[0m\" 200 -\n"
     ]
    }
   ],
   "source": [
    "app = Flask(__name__)\n",
    "app.config[\"MONGO_URI\"] = \"mongodb://localhost:8088/person_data\"\n",
    "mongo = PyMongo(app)\n",
    "\n",
    "@app.route('/d0206/<id>', methods = ['PUT'])\n",
    "def update_member(id):\n",
    "    result = 0\n",
    "    \n",
    "    name = request.form.get('name')\n",
    "    age = request.form.get('age')\n",
    "    gender = request.form.get('gender')\n",
    "    emotion = request.form.get('emotion')\n",
    "    new_value = { \"$set\": { \"name\":name, \"age\": age, \"gender\":gender, \"emotion\": emotion}}\n",
    "    upd_result = mongo.db.d0206.update_one({\"_id\": ObjectId(id)}, new_value)\n",
    "    if upd_result is not None:\n",
    "        result = upd_result.modified_count\n",
    "    return \"update {} data\".format(result)\n",
    "\n",
    "if __name__ == \"__main__\":\n",
    "    app.run()"
   ]
  },
  {
   "cell_type": "code",
   "execution_count": null,
   "id": "velvet-product",
   "metadata": {},
   "outputs": [],
   "source": []
  }
 ],
 "metadata": {
  "kernelspec": {
   "display_name": "Python 3",
   "language": "python",
   "name": "python3"
  },
  "language_info": {
   "codemirror_mode": {
    "name": "ipython",
    "version": 3
   },
   "file_extension": ".py",
   "mimetype": "text/x-python",
   "name": "python",
   "nbconvert_exporter": "python",
   "pygments_lexer": "ipython3",
   "version": "3.6.5"
  }
 },
 "nbformat": 4,
 "nbformat_minor": 5
}
