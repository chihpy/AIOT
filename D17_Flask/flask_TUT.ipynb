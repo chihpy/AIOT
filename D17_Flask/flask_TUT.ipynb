{
 "cells": [
  {
   "cell_type": "code",
   "execution_count": 1,
   "metadata": {},
   "outputs": [
    {
     "name": "stdout",
     "output_type": "stream",
     "text": [
      " * Serving Flask app \"__main__\" (lazy loading)\n",
      " * Environment: production\n",
      "   WARNING: This is a development server. Do not use it in a production deployment.\n",
      "   Use a production WSGI server instead.\n",
      " * Debug mode: off\n"
     ]
    },
    {
     "name": "stderr",
     "output_type": "stream",
     "text": [
      " * Running on http://127.0.0.1:5000/ (Press CTRL+C to quit)\n",
      "127.0.0.1 - - [26/Feb/2021 15:14:35] \"\u001b[37mGET / HTTP/1.1\u001b[0m\" 200 -\n",
      "127.0.0.1 - - [26/Feb/2021 15:14:35] \"\u001b[33mGET /favicon.ico HTTP/1.1\u001b[0m\" 404 -\n"
     ]
    }
   ],
   "source": [
    "# 使用Get發出請求\n",
    "from flask import Flask, request\n",
    "\n",
    "app = Flask(__name__)\n",
    "\n",
    "# 設定網址路由，及接受的 method(預設是 GET)\n",
    "@app.route('/', methods=['GET'])\n",
    "def index():\n",
    "    return \"Hello World\"\n",
    "    \n",
    "if __name__ == '__main__':\n",
    "    app.run()"
   ]
  },
  {
   "cell_type": "code",
   "execution_count": 3,
   "metadata": {},
   "outputs": [
    {
     "name": "stdout",
     "output_type": "stream",
     "text": [
      " * Serving Flask app \"__main__\" (lazy loading)\n",
      " * Environment: production\n",
      "   WARNING: This is a development server. Do not use it in a production deployment.\n",
      "   Use a production WSGI server instead.\n",
      " * Debug mode: off\n"
     ]
    },
    {
     "name": "stderr",
     "output_type": "stream",
     "text": [
      " * Running on http://127.0.0.1:5000/ (Press CTRL+C to quit)\n",
      "127.0.0.1 - - [25/Feb/2021 13:08:30] \"\u001b[37mGET / HTTP/1.1\u001b[0m\" 200 -\n",
      "[2021-02-25 13:09:20,927] ERROR in app: Exception on / [GET]\n",
      "Traceback (most recent call last):\n",
      "  File \"C:\\Anaconda3\\lib\\site-packages\\flask\\app.py\", line 2447, in wsgi_app\n",
      "    response = self.full_dispatch_request()\n",
      "  File \"C:\\Anaconda3\\lib\\site-packages\\flask\\app.py\", line 1952, in full_dispatch_request\n",
      "    rv = self.handle_user_exception(e)\n",
      "  File \"C:\\Anaconda3\\lib\\site-packages\\flask\\app.py\", line 1821, in handle_user_exception\n",
      "    reraise(exc_type, exc_value, tb)\n",
      "  File \"C:\\Anaconda3\\lib\\site-packages\\flask\\_compat.py\", line 39, in reraise\n",
      "    raise value\n",
      "  File \"C:\\Anaconda3\\lib\\site-packages\\flask\\app.py\", line 1950, in full_dispatch_request\n",
      "    rv = self.dispatch_request()\n",
      "  File \"C:\\Anaconda3\\lib\\site-packages\\flask\\app.py\", line 1936, in dispatch_request\n",
      "    return self.view_functions[rule.endpoint](**req.view_args)\n",
      "  File \"<ipython-input-3-dfbba8e2e2f4>\", line 10, in index\n",
      "    return \"Hello \" + name\n",
      "TypeError: must be str, not NoneType\n",
      "127.0.0.1 - - [25/Feb/2021 13:09:20] \"\u001b[35m\u001b[1mGET / HTTP/1.1\u001b[0m\" 500 -\n",
      "127.0.0.1 - - [25/Feb/2021 13:09:47] \"\u001b[37mGET /?name=py HTTP/1.1\u001b[0m\" 200 -\n",
      "[2021-02-25 13:10:03,577] ERROR in app: Exception on / [GET]\n",
      "Traceback (most recent call last):\n",
      "  File \"C:\\Anaconda3\\lib\\site-packages\\flask\\app.py\", line 2447, in wsgi_app\n",
      "    response = self.full_dispatch_request()\n",
      "  File \"C:\\Anaconda3\\lib\\site-packages\\flask\\app.py\", line 1952, in full_dispatch_request\n",
      "    rv = self.handle_user_exception(e)\n",
      "  File \"C:\\Anaconda3\\lib\\site-packages\\flask\\app.py\", line 1821, in handle_user_exception\n",
      "    reraise(exc_type, exc_value, tb)\n",
      "  File \"C:\\Anaconda3\\lib\\site-packages\\flask\\_compat.py\", line 39, in reraise\n",
      "    raise value\n",
      "  File \"C:\\Anaconda3\\lib\\site-packages\\flask\\app.py\", line 1950, in full_dispatch_request\n",
      "    rv = self.dispatch_request()\n",
      "  File \"C:\\Anaconda3\\lib\\site-packages\\flask\\app.py\", line 1936, in dispatch_request\n",
      "    return self.view_functions[rule.endpoint](**req.view_args)\n",
      "  File \"<ipython-input-3-dfbba8e2e2f4>\", line 10, in index\n",
      "    return \"Hello \" + name\n",
      "TypeError: must be str, not NoneType\n",
      "127.0.0.1 - - [25/Feb/2021 13:10:03] \"\u001b[35m\u001b[1mGET / HTTP/1.1\u001b[0m\" 500 -\n",
      "127.0.0.1 - - [25/Feb/2021 13:10:11] \"\u001b[37mGET /?name=py HTTP/1.1\u001b[0m\" 200 -\n"
     ]
    }
   ],
   "source": [
    "# 使用 GET 取得 Request 中的參數\n",
    "from flask import Flask, request\n",
    "\n",
    "app = Flask(__name__)\n",
    "\n",
    "# 設定網址路由，及接受的 method(預設是 GET)\n",
    "@app.route('/', methods=['GET'])\n",
    "def index():\n",
    "    name = request.args.get('name') # 取得 name 參數\n",
    "    return \"Hello \" + name\n",
    "\n",
    "if __name__ == '__main__':\n",
    "    app.run()"
   ]
  },
  {
   "cell_type": "code",
   "execution_count": 4,
   "metadata": {},
   "outputs": [
    {
     "name": "stdout",
     "output_type": "stream",
     "text": [
      " * Serving Flask app \"__main__\" (lazy loading)\n",
      " * Environment: production\n",
      "   WARNING: This is a development server. Do not use it in a production deployment.\n",
      "   Use a production WSGI server instead.\n",
      " * Debug mode: off\n"
     ]
    },
    {
     "name": "stderr",
     "output_type": "stream",
     "text": [
      " * Running on http://127.0.0.1:5000/ (Press CTRL+C to quit)\n",
      "127.0.0.1 - - [25/Feb/2021 13:10:37] \"\u001b[31m\u001b[1mGET /?name=py&passwd=123 HTTP/1.1\u001b[0m\" 405 -\n",
      "[2021-02-25 13:10:52,247] ERROR in app: Exception on / [POST]\n",
      "Traceback (most recent call last):\n",
      "  File \"C:\\Anaconda3\\lib\\site-packages\\flask\\app.py\", line 2447, in wsgi_app\n",
      "    response = self.full_dispatch_request()\n",
      "  File \"C:\\Anaconda3\\lib\\site-packages\\flask\\app.py\", line 1952, in full_dispatch_request\n",
      "    rv = self.handle_user_exception(e)\n",
      "  File \"C:\\Anaconda3\\lib\\site-packages\\flask\\app.py\", line 1821, in handle_user_exception\n",
      "    reraise(exc_type, exc_value, tb)\n",
      "  File \"C:\\Anaconda3\\lib\\site-packages\\flask\\_compat.py\", line 39, in reraise\n",
      "    raise value\n",
      "  File \"C:\\Anaconda3\\lib\\site-packages\\flask\\app.py\", line 1950, in full_dispatch_request\n",
      "    rv = self.dispatch_request()\n",
      "  File \"C:\\Anaconda3\\lib\\site-packages\\flask\\app.py\", line 1936, in dispatch_request\n",
      "    return self.view_functions[rule.endpoint](**req.view_args)\n",
      "  File \"<ipython-input-4-3ac011950f11>\", line 11, in index\n",
      "    return \"Your name: \" + name + \", Your passwd: \" + passwd\n",
      "TypeError: must be str, not NoneType\n",
      "127.0.0.1 - - [25/Feb/2021 13:10:52] \"\u001b[35m\u001b[1mPOST /?name=py&passwd=123 HTTP/1.1\u001b[0m\" 500 -\n",
      "127.0.0.1 - - [25/Feb/2021 13:12:12] \"\u001b[37mPOST /?name=py&passwd=123 HTTP/1.1\u001b[0m\" 200 -\n"
     ]
    }
   ],
   "source": [
    "# 使用 Post 傳遞參數資料\n",
    "from flask import Flask, request\n",
    "\n",
    "app = Flask(__name__)\n",
    "\n",
    "# 設定網址路由，及接受的 method(預設是 GET)\n",
    "@app.route('/', methods=['POST'])\n",
    "def index():\n",
    "    name = request.form.get('name') # 取得 name 參數\n",
    "    passwd = request.form.get('passwd') # 取得 passwd 參數\n",
    "    return \"Your name: \" + name + \", Your passwd: \" + passwd\n",
    "    \n",
    "\n",
    "if __name__ == '__main__':\n",
    "    app.run()"
   ]
  },
  {
   "cell_type": "code",
   "execution_count": 6,
   "metadata": {},
   "outputs": [
    {
     "name": "stdout",
     "output_type": "stream",
     "text": [
      " * Serving Flask app \"__main__\" (lazy loading)\n",
      " * Environment: production\n",
      "   WARNING: This is a development server. Do not use it in a production deployment.\n",
      "   Use a production WSGI server instead.\n",
      " * Debug mode: off\n"
     ]
    },
    {
     "name": "stderr",
     "output_type": "stream",
     "text": [
      " * Running on http://127.0.0.1:5000/ (Press CTRL+C to quit)\n",
      "127.0.0.1 - - [25/Feb/2021 13:16:26] \"\u001b[37mPOST / HTTP/1.1\u001b[0m\" 200 -\n"
     ]
    }
   ],
   "source": [
    "# 使用 Post 檔案上傳單一檔案\n",
    "from flask import Flask, request\n",
    "\n",
    "app = Flask(__name__)\n",
    "\n",
    "# 設定網址路由，及接受的 method(預設是 GET)\n",
    "@app.route('/', methods=['POST'])\n",
    "def index():\n",
    "    file = request.files['file'] # 取得 request 中的 file(記得發送 postman 中的 檔案參數名稱要和這邊一致)\n",
    "    file.save(file.filename) # 把檔案存起來，並用原來的檔名作為名稱\n",
    "    \n",
    "    return file.filename # 回傳檔案名稱\n",
    "    \n",
    "\n",
    "if __name__ == '__main__':\n",
    "    app.run()"
   ]
  },
  {
   "cell_type": "code",
   "execution_count": 7,
   "metadata": {},
   "outputs": [
    {
     "name": "stdout",
     "output_type": "stream",
     "text": [
      " * Serving Flask app \"__main__\" (lazy loading)\n",
      " * Environment: production\n",
      "   WARNING: This is a development server. Do not use it in a production deployment.\n",
      "   Use a production WSGI server instead.\n",
      " * Debug mode: off\n"
     ]
    },
    {
     "name": "stderr",
     "output_type": "stream",
     "text": [
      " * Running on http://127.0.0.1:5000/ (Press CTRL+C to quit)\n",
      "127.0.0.1 - - [25/Feb/2021 13:19:57] \"\u001b[37mPOST / HTTP/1.1\u001b[0m\" 200 -\n"
     ]
    }
   ],
   "source": [
    "# 使用 Post 檔案上傳多個檔案\n",
    "from flask import Flask, request\n",
    "\n",
    "app = Flask(__name__)\n",
    "\n",
    "# 設定網址路由，及接受的 method(預設是 GET)\n",
    "@app.route('/', methods=['POST'])\n",
    "def index():\n",
    "    files = request.files.getlist('file') # 若有多個檔案，必須使用 getlist\n",
    "    total = 0\n",
    "    for file in files:\n",
    "        total += 1 # 讀到一個檔案就加一\n",
    "        file.save(file.filename) # 把檔案存起來，並用原來的檔名作為名稱\n",
    "    \n",
    "    return str(total) # 回傳總上傳的檔案數量\n",
    "    \n",
    "\n",
    "if __name__ == '__main__':\n",
    "    app.run()"
   ]
  },
  {
   "cell_type": "code",
   "execution_count": 9,
   "metadata": {},
   "outputs": [
    {
     "name": "stdout",
     "output_type": "stream",
     "text": [
      " * Serving Flask app \"__main__\" (lazy loading)\n",
      " * Environment: production\n",
      "   WARNING: This is a development server. Do not use it in a production deployment.\n",
      "   Use a production WSGI server instead.\n",
      " * Debug mode: off\n"
     ]
    },
    {
     "name": "stderr",
     "output_type": "stream",
     "text": [
      " * Running on http://127.0.0.1:5000/ (Press CTRL+C to quit)\n",
      "127.0.0.1 - - [25/Feb/2021 13:22:20] \"\u001b[32mPOST / HTTP/1.1\u001b[0m\" 302 -\n",
      "127.0.0.1 - - [25/Feb/2021 13:22:21] \"\u001b[37mGET /upload_finish/test_img.jpg HTTP/1.1\u001b[0m\" 200 -\n",
      "127.0.0.1 - - [25/Feb/2021 13:22:27] \"\u001b[31m\u001b[1mGET / HTTP/1.1\u001b[0m\" 405 -\n",
      "127.0.0.1 - - [25/Feb/2021 13:22:29] \"\u001b[31m\u001b[1mGET / HTTP/1.1\u001b[0m\" 405 -\n"
     ]
    }
   ],
   "source": [
    "# 取得 Flask Server 上的檔案\n",
    "from flask import Flask, request, redirect, url_for, send_file\n",
    "\n",
    "app = Flask(__name__)\n",
    "\n",
    "# 設定網址路由，及接受的 method(預設是 GET)\n",
    "@app.route('/', methods=['POST'])\n",
    "def index():\n",
    "    file = request.files.get('file') # 先接收傳送過來的檔案\n",
    "    file.save(file.filename) # 儲存檔案\n",
    "    \n",
    "    return redirect(url_for('upload_finish', filename=file.filename)) # 將請求導到 upload_finish，並帶入要回傳的檔案名稱\n",
    "\n",
    "@app.route('/upload_finish/<filename>')\n",
    "def upload_finish(filename):\n",
    "    return send_file(filename) # 從資料夾中拿取檔案，並回傳回去\n",
    "    \n",
    "\n",
    "if __name__ == '__main__':\n",
    "    app.run()"
   ]
  },
  {
   "cell_type": "code",
   "execution_count": 3,
   "metadata": {},
   "outputs": [
    {
     "name": "stdout",
     "output_type": "stream",
     "text": [
      " * Serving Flask app \"__main__\" (lazy loading)\n",
      " * Environment: production\n",
      "   WARNING: This is a development server. Do not use it in a production deployment.\n",
      "   Use a production WSGI server instead.\n",
      " * Debug mode: off\n"
     ]
    },
    {
     "name": "stderr",
     "output_type": "stream",
     "text": [
      " * Running on http://127.0.0.1:5000/ (Press CTRL+C to quit)\n",
      "127.0.0.1 - - [25/Feb/2021 13:40:11] \"\u001b[37mGET / HTTP/1.1\u001b[0m\" 200 -\n",
      "127.0.0.1 - - [25/Feb/2021 13:40:20] \"\u001b[37mGET / HTTP/1.1\u001b[0m\" 200 -\n"
     ]
    }
   ],
   "source": [
    "# 回傳 HTML 畫面\n",
    "from flask import Flask, request, render_template\n",
    "\n",
    "app = Flask(__name__)\n",
    "app.config['APPLICATION_ROOT'] = \".\" # . 代表在程式執行的當前目錄，加入這個設定讓程式知道我的 templates 在這邊\n",
    "\n",
    "# 設定網址路由，及接受的 method(預設是 GET)\n",
    "@app.route('/', methods=['GET'])\n",
    "def index():\n",
    "    return render_template('index.html') # 回傳 index.html 這個畫面\n",
    "    \n",
    "\n",
    "if __name__ == '__main__':\n",
    "    app.run()"
   ]
  },
  {
   "cell_type": "code",
   "execution_count": 2,
   "metadata": {},
   "outputs": [
    {
     "name": "stdout",
     "output_type": "stream",
     "text": [
      " * Serving Flask app \"__main__\" (lazy loading)\n",
      " * Environment: production\n",
      "   WARNING: This is a development server. Do not use it in a production deployment.\n",
      "   Use a production WSGI server instead.\n",
      " * Debug mode: off\n"
     ]
    },
    {
     "name": "stderr",
     "output_type": "stream",
     "text": [
      " * Running on http://127.0.0.1:5000/ (Press CTRL+C to quit)\n",
      "127.0.0.1 - - [26/Feb/2021 17:39:07] \"\u001b[37mGET / HTTP/1.1\u001b[0m\" 200 -\n",
      "127.0.0.1 - - [26/Feb/2021 17:39:12] \"\u001b[32mPOST / HTTP/1.1\u001b[0m\" 302 -\n",
      "127.0.0.1 - - [26/Feb/2021 17:39:12] \"\u001b[37mGET /httpcsvkmeuaeccjpg.jpg HTTP/1.1\u001b[0m\" 200 -\n"
     ]
    }
   ],
   "source": [
    "import os\n",
    "from flask import Flask, request, redirect, url_for, send_from_directory\n",
    "\n",
    "\n",
    "app = Flask(__name__)\n",
    "app.config['UPLOAD_FOLDER'] = './file/' # 檔案上傳後要放置的位置，請自行修改\n",
    "\n",
    "\n",
    "\n",
    "# 若使用 Post 方法呼叫此 api，才會真的執行檔案上傳\n",
    "# 否則若用 Get，則會回傳下面那串 html 畫面\n",
    "@app.route('/', methods=['GET', 'POST'])\n",
    "def upload_file():\n",
    "    if request.method == 'POST': \n",
    "        file = request.files['file']\n",
    "        if file:\n",
    "            filename = file.filename\n",
    "            file.save(os.path.join(app.config['UPLOAD_FOLDER'], \n",
    "                                   filename))\n",
    "            return redirect(url_for('uploaded_file',\n",
    "                                    filename=filename))\n",
    "    return '''\n",
    "    <!doctype html>\n",
    "    <title>Upload new File</title>\n",
    "    <h1>Upload new File</h1>\n",
    "    <form action=\"\" method=post enctype=multipart/form-data>\n",
    "      <p><input type=file name=file>\n",
    "         <input type=submit value=Upload>\n",
    "    </form>\n",
    "    '''\n",
    "\n",
    "@app.route('/<filename>')\n",
    "def uploaded_file(filename):\n",
    "    return send_from_directory(app.config['UPLOAD_FOLDER'], # 上傳成功之後，馬上讀出來並回傳到網頁上\n",
    "                               filename)\n",
    "\n",
    "\n",
    "if __name__ == \"__main__\":\n",
    "    app.run()"
   ]
  },
  {
   "cell_type": "code",
   "execution_count": null,
   "metadata": {},
   "outputs": [],
   "source": []
  }
 ],
 "metadata": {
  "kernelspec": {
   "display_name": "Python 3",
   "language": "python",
   "name": "python3"
  },
  "language_info": {
   "codemirror_mode": {
    "name": "ipython",
    "version": 3
   },
   "file_extension": ".py",
   "mimetype": "text/x-python",
   "name": "python",
   "nbconvert_exporter": "python",
   "pygments_lexer": "ipython3",
   "version": "3.6.5"
  }
 },
 "nbformat": 4,
 "nbformat_minor": 2
}
